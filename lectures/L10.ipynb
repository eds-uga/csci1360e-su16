{
 "cells": [
  {
   "cell_type": "markdown",
   "metadata": {
    "slideshow": {
     "slide_type": "slide"
    }
   },
   "source": [
    "# Lecture 10: More on Functions\n",
    "\n",
    "CSCI 1360E: Foundations for Informatics and Analytics"
   ]
  },
  {
   "cell_type": "markdown",
   "metadata": {
    "slideshow": {
     "slide_type": "slide"
    }
   },
   "source": [
    "## Overview and Objectives\n",
    "\n",
    "In the previous lecture, we went over the basics of functions. Here, we'll expand a little bit on some of the finer points of function arguments that can both be useful but also be huge sources of confusion. By the end of the lecture, you should be able to\n",
    "\n",
    " - Differentiate *positional* arguments from *keyword* arguments\n",
    " - Construct functions that take any number of arguments, in positional or key-value format\n",
    " - Explain \"pass by value\" and contrast it with \"pass by reference\", and why certain Python types can be modified in functions while others can't"
   ]
  },
  {
   "cell_type": "markdown",
   "metadata": {
    "slideshow": {
     "slide_type": "slide"
    }
   },
   "source": [
    "## Part 1: Keyword Arguments\n",
    "\n",
    "In the previous lecture we learned about positional arguments. As the name implies, position is key:"
   ]
  },
  {
   "cell_type": "code",
   "execution_count": 2,
   "metadata": {
    "collapsed": false,
    "slideshow": {
     "slide_type": "fragment"
    }
   },
   "outputs": [
    {
     "name": "stdout",
     "output_type": "stream",
     "text": [
      "Pet 1: King\n",
      "Pet 2: Reginald\n",
      "Pet 1: Reginald\n",
      "Pet 2: King\n"
     ]
    }
   ],
   "source": [
    "def pet_names(name1, name2):\n",
    "    print(\"Pet 1: {}\".format(name1))\n",
    "    print(\"Pet 2: {}\".format(name2))\n",
    "\n",
    "pet1 = \"King\"\n",
    "pet2 = \"Reginald\"\n",
    "pet_names(pet1, pet2)\n",
    "pet_names(pet2, pet1)"
   ]
  },
  {
   "cell_type": "markdown",
   "metadata": {
    "slideshow": {
     "slide_type": "fragment"
    }
   },
   "source": [
    "In this example, we switched the ordering of the arguments between the two function calls; consequently, the ordering of the arguments inside the function were also flipped. Hence, *positional*: position matters."
   ]
  },
  {
   "cell_type": "markdown",
   "metadata": {
    "slideshow": {
     "slide_type": "slide"
    }
   },
   "source": [
    "In contrast, Python also has *keyword* arguments, where order no longer matters **as long as you specify the keyword**. We can use the same function as before:"
   ]
  },
  {
   "cell_type": "code",
   "execution_count": 3,
   "metadata": {
    "collapsed": true,
    "slideshow": {
     "slide_type": "fragment"
    }
   },
   "outputs": [],
   "source": [
    "def pet_names(name1, name2):\n",
    "    print(\"Pet 1: {}\".format(name1))\n",
    "    print(\"Pet 2: {}\".format(name2))"
   ]
  },
  {
   "cell_type": "markdown",
   "metadata": {
    "slideshow": {
     "slide_type": "fragment"
    }
   },
   "source": [
    "Only this time, we'll use the names of the arguments themselves (aka, *keywords*):"
   ]
  },
  {
   "cell_type": "code",
   "execution_count": 4,
   "metadata": {
    "collapsed": false,
    "slideshow": {
     "slide_type": "fragment"
    }
   },
   "outputs": [
    {
     "name": "stdout",
     "output_type": "stream",
     "text": [
      "Pet 1: Rocco\n",
      "Pet 2: Lucy\n",
      "Pet 1: Rocco\n",
      "Pet 2: Lucy\n"
     ]
    }
   ],
   "source": [
    "pet1 = \"Rocco\"\n",
    "pet2 = \"Lucy\"\n",
    "pet_names(name1 = pet1, name2 = pet2)\n",
    "pet_names(name2 = pet2, name1 = pet1)"
   ]
  },
  {
   "cell_type": "markdown",
   "metadata": {
    "slideshow": {
     "slide_type": "fragment"
    }
   },
   "source": [
    "As you can see, we used the names of the arguments from the function header itself, setting them equal to the variable we wanted to use for that argument. Consequently, *order doesn't matter*--Python can see that, in both function calls, we're setting `name1 = pet1` and `name2 = pet2`."
   ]
  },
  {
   "cell_type": "markdown",
   "metadata": {
    "slideshow": {
     "slide_type": "slide"
    }
   },
   "source": [
    "Keyword arguments are extremely useful when it comes to default arguments."
   ]
  },
  {
   "cell_type": "markdown",
   "metadata": {
    "slideshow": {
     "slide_type": "fragment"
    }
   },
   "source": [
    "If you take a look at any NumPy API--even the documentation for `numpy.array`--there are LOTS of default arguments. Trying to remember their ordering is a pointless task. What's much easier is to simply remember the name of the argument--the *keyword*--and use that to override any default argument you want to change."
   ]
  },
  {
   "cell_type": "markdown",
   "metadata": {
    "slideshow": {
     "slide_type": "fragment"
    }
   },
   "source": [
    "Ordering of the keyword arguments doesn't matter; that's why we can specify some of the default parameters by keyword, leaving others at their defaults, and Python doesn't complain."
   ]
  },
  {
   "cell_type": "markdown",
   "metadata": {
    "slideshow": {
     "slide_type": "slide"
    }
   },
   "source": [
    "## Part 2: Passing an Arbitrary Number of Arguments\n",
    "\n",
    "There are instances where you'll want to pass in an arbitrary number of arguments to a function, a number which isn't known until the function is called and could change from call to call!"
   ]
  },
  {
   "cell_type": "markdown",
   "metadata": {
    "slideshow": {
     "slide_type": "fragment"
    }
   },
   "source": [
    "On one hand, you could consider just passing in a single list, thereby obviating the need. That's more or less what actually happens here, but the syntax is a tiny bit different."
   ]
  },
  {
   "cell_type": "markdown",
   "metadata": {
    "slideshow": {
     "slide_type": "slide"
    }
   },
   "source": [
    "Here's an example: a function which lists out pizza toppings. Note the format of the input argument(s):"
   ]
  },
  {
   "cell_type": "code",
   "execution_count": 5,
   "metadata": {
    "collapsed": false,
    "slideshow": {
     "slide_type": "fragment"
    }
   },
   "outputs": [
    {
     "name": "stdout",
     "output_type": "stream",
     "text": [
      "Making a pizza with the following toppings:\n",
      " - pepperoni\n",
      "Making a pizza with the following toppings:\n",
      " - pepperoni\n",
      " - banana peppers\n",
      " - green peppers\n",
      " - mushrooms\n"
     ]
    }
   ],
   "source": [
    "def make_pizza(*toppings):\n",
    "    print(\"Making a pizza with the following toppings:\")\n",
    "    for topping in toppings:\n",
    "        print(\" - {}\".format(topping))\n",
    "\n",
    "make_pizza(\"pepperoni\")\n",
    "make_pizza(\"pepperoni\", \"banana peppers\", \"green peppers\", \"mushrooms\")"
   ]
  },
  {
   "cell_type": "markdown",
   "metadata": {
    "slideshow": {
     "slide_type": "fragment"
    }
   },
   "source": [
    "Inside the function, it's basically treated as a list: in fact, it *is* a list."
   ]
  },
  {
   "cell_type": "markdown",
   "metadata": {
    "slideshow": {
     "slide_type": "fragment"
    }
   },
   "source": [
    "So why not just make the input argument a single variable which is a list? *Convenience*. In some sense, it's more intuitive to the programmer calling the function to just list out a bunch of things, rather than putting them all in a list first. But that argument could go either way depending on the person and the circumstance, most likely."
   ]
  },
  {
   "cell_type": "markdown",
   "metadata": {
    "slideshow": {
     "slide_type": "slide"
    }
   },
   "source": [
    "With variable-length arguments, you may very well ask: this is cool, but it doesn't seem like I can make keyword arguments work in this setting? And to that I would say, *absolutely correct!*"
   ]
  },
  {
   "cell_type": "markdown",
   "metadata": {
    "slideshow": {
     "slide_type": "fragment"
    }
   },
   "source": [
    "So we have a slight variation to accommodate keyword arguments in the realm of including arbitrary numbers of arguments:"
   ]
  },
  {
   "cell_type": "code",
   "execution_count": 6,
   "metadata": {
    "collapsed": false,
    "slideshow": {
     "slide_type": "fragment"
    }
   },
   "outputs": [
    {
     "name": "stdout",
     "output_type": "stream",
     "text": [
      "{'university': 'UGA', 'firstname': 'Shannon', 'lastname': 'Quinn'}\n",
      "{'name': 'Shannon Quinn', 'department': 'Computer Science'}\n"
     ]
    }
   ],
   "source": [
    "def build_profile(**user_info):\n",
    "    profile = {}\n",
    "    for key, value in user_info.items():\n",
    "        profile[key] = value\n",
    "    return profile\n",
    "\n",
    "profile = build_profile(firstname = \"Shannon\", lastname = \"Quinn\", university = \"UGA\")\n",
    "print(profile)\n",
    "profile = build_profile(name = \"Shannon Quinn\", department = \"Computer Science\")\n",
    "print(profile)"
   ]
  },
  {
   "cell_type": "markdown",
   "metadata": {
    "slideshow": {
     "slide_type": "fragment"
    }
   },
   "source": [
    "Instead of one `*` in the function header, there are two. And yes, instead of a list when we get to the inside of the function, now we basically have a dictionary! "
   ]
  },
  {
   "cell_type": "markdown",
   "metadata": {
    "slideshow": {
     "slide_type": "slide"
    }
   },
   "source": [
    "Arbitrary arguments (either \"lists\" or \"dictionaries\") can be mixed with positional arguments, as well as with each other."
   ]
  },
  {
   "cell_type": "code",
   "execution_count": 9,
   "metadata": {
    "collapsed": false,
    "slideshow": {
     "slide_type": "fragment"
    }
   },
   "outputs": [
    {
     "name": "stdout",
     "output_type": "stream",
     "text": [
      "Last Name: Quinn\n",
      "university: UGA\n",
      "Nicknames: ('Professor', 'Doctor', 'Master of Science')\n",
      "First Name: Shannon\n",
      "department: Computer Science\n"
     ]
    }
   ],
   "source": [
    "def build_better_profile(firstname, lastname, *nicknames, **user_info):\n",
    "    profile = {'First Name': firstname, 'Last Name': lastname}\n",
    "    for key, value in user_info.items():\n",
    "        profile[key] = value\n",
    "    profile['Nicknames'] = nicknames\n",
    "    return profile\n",
    "\n",
    "profile = build_better_profile(\"Shannon\", \"Quinn\", \"Professor\", \"Doctor\", \"Master of Science\",\n",
    "                               department = \"Computer Science\", university = \"UGA\")\n",
    "for key, value in profile.items():\n",
    "    print(\"{}: {}\".format(key, value))"
   ]
  },
  {
   "cell_type": "markdown",
   "metadata": {
    "slideshow": {
     "slide_type": "fragment"
    }
   },
   "source": [
    " - We have our positional or keyword arguments (they're used as positional arguments here) in the form of `firstname` and `lastname`\n",
    " - `*nicknames` is an arbitrary list of arguments, so anything beyond the positional / keyword (or default!) arguments will be considered part of this aggregate\n",
    " - `**user_info` is comprised of any key-value pairs that are *not* among the default arguments; in this case, those are `department` and `university`"
   ]
  },
  {
   "cell_type": "markdown",
   "metadata": {
    "slideshow": {
     "slide_type": "slide"
    }
   },
   "source": [
    "## Part 2: Pass-by-value vs Pass-by-reference\n",
    "\n",
    "This is arguably one of the trickiest parts of programming, so **please** ask questions if you're having trouble."
   ]
  },
  {
   "cell_type": "markdown",
   "metadata": {
    "slideshow": {
     "slide_type": "fragment"
    }
   },
   "source": [
    "Let's start with an example to illustrate what's this is. Take the following code:"
   ]
  },
  {
   "cell_type": "code",
   "execution_count": 15,
   "metadata": {
    "collapsed": false,
    "slideshow": {
     "slide_type": "fragment"
    }
   },
   "outputs": [
    {
     "name": "stdout",
     "output_type": "stream",
     "text": [
      "Before function: 10\n",
      "Inside function: 20\n",
      "After function: 10\n"
     ]
    }
   ],
   "source": [
    "def magic_function(x):\n",
    "    x = 20\n",
    "    print(\"Inside function: {}\".format(x))\n",
    "\n",
    "x = 10\n",
    "print(\"Before function: {}\".format(x))\n",
    "magic_function(x)\n",
    "print(\"After function: {}\".format(x))"
   ]
  },
  {
   "cell_type": "markdown",
   "metadata": {
    "slideshow": {
     "slide_type": "fragment"
    }
   },
   "source": [
    "What will the `print()` statement at the end print? 10? 20? Something else?"
   ]
  },
  {
   "cell_type": "markdown",
   "metadata": {
    "slideshow": {
     "slide_type": "slide"
    }
   },
   "source": [
    "It prints **10**. Before explaining, let's take another example."
   ]
  },
  {
   "cell_type": "code",
   "execution_count": 16,
   "metadata": {
    "collapsed": false,
    "slideshow": {
     "slide_type": "fragment"
    }
   },
   "outputs": [
    {
     "name": "stdout",
     "output_type": "stream",
     "text": [
      "Before function: [10, 10]\n",
      "Inside function: [20, 10]\n",
      "After function: [20, 10]\n"
     ]
    }
   ],
   "source": [
    "def magic_function2(x):\n",
    "    x[0] = 20\n",
    "    print(\"Inside function: {}\".format(x))\n",
    "\n",
    "x = [10, 10]\n",
    "print(\"Before function: {}\".format(x))\n",
    "magic_function2(x)\n",
    "print(\"After function: {}\".format(x))"
   ]
  },
  {
   "cell_type": "markdown",
   "metadata": {
    "slideshow": {
     "slide_type": "fragment"
    }
   },
   "source": [
    "What will the `print()` statement at the end print? `[10, 10]`? `[20, 10]`? Something else?"
   ]
  },
  {
   "cell_type": "markdown",
   "metadata": {
    "slideshow": {
     "slide_type": "slide"
    }
   },
   "source": [
    "It prints **`[20, 10]`**."
   ]
  },
  {
   "cell_type": "markdown",
   "metadata": {
    "slideshow": {
     "slide_type": "fragment"
    }
   },
   "source": [
    "To recap, what we've seen is that\n",
    "\n",
    " 1. We tried to modify an integer function argument. It worked *inside* the function, but once the function completed, the old value returned.\n",
    " 2. We modified a list element of a function argument. It worked inside the function, and the changes were still there after the function ended."
   ]
  },
  {
   "cell_type": "markdown",
   "metadata": {
    "slideshow": {
     "slide_type": "fragment"
    }
   },
   "source": [
    "Explaining these seemingly-divergent behaviors is the tricky part, but to give you the punchline:"
   ]
  },
  {
   "cell_type": "markdown",
   "metadata": {
    "slideshow": {
     "slide_type": "fragment"
    }
   },
   "source": [
    " - #1 above is an example of **pass by value**, in which the *value* of the argument is copied when the function is called, and then discarded when the function ends, hence the variable retaining its original value.\n",
    " - #2 above is an example of **pass by reference**, in which a *reference* to the list--not the list itself!--is passed to the function. This reference still points to the original list, so any changes made inside the function are also made to the original list, and therefore persist when the function is finished."
   ]
  },
  {
   "cell_type": "markdown",
   "metadata": {
    "slideshow": {
     "slide_type": "slide"
    }
   },
   "source": [
    "StackOverflow has a great gif to represent this process in pictures:"
   ]
  },
  {
   "cell_type": "markdown",
   "metadata": {
    "slideshow": {
     "slide_type": "fragment"
    }
   },
   "source": [
    "![passbyvalueorreference](http://i.stack.imgur.com/QdcG2.gif)"
   ]
  },
  {
   "cell_type": "markdown",
   "metadata": {
    "slideshow": {
     "slide_type": "fragment"
    }
   },
   "source": [
    "In pass by value (on the right), the cup (argument) is outright copied, so any changes made to it inside the function vanish when the function is done."
   ]
  },
  {
   "cell_type": "markdown",
   "metadata": {
    "slideshow": {
     "slide_type": "fragment"
    }
   },
   "source": [
    "In pass by reference (on the left), only a reference to the cup is given to the function. This reference, however, \"refers\" to the original cup, so changes made to the reference are propagated back to the original."
   ]
  },
  {
   "cell_type": "markdown",
   "metadata": {
    "slideshow": {
     "slide_type": "slide"
    }
   },
   "source": [
    "### What are \"references\"?\n",
    "\n",
    "So what are these mysterious references? Glad you asked!"
   ]
  },
  {
   "cell_type": "markdown",
   "metadata": {
    "slideshow": {
     "slide_type": "fragment"
    }
   },
   "source": [
    "Imagine you're throwing a party for some friends who have never visited your house before. They ask you for directions (or, given we live in the age of Google Maps, they ask for your home address)."
   ]
  },
  {
   "cell_type": "markdown",
   "metadata": {
    "slideshow": {
     "slide_type": "fragment"
    }
   },
   "source": [
    "Rather than try to hand them your entire house, or put your physical house on Google Maps (I mean this quite literally), what do you do? You **write down your home address on a piece of paper** (or, realistically, send a text message)."
   ]
  },
  {
   "cell_type": "markdown",
   "metadata": {
    "slideshow": {
     "slide_type": "fragment"
    }
   },
   "source": [
    "**This is not your house, but it is a *reference* to your house**. It's small, compact, and easy to give out--as opposed to your physical, literal home--while intrinsically providing a path to the real thing."
   ]
  },
  {
   "cell_type": "markdown",
   "metadata": {
    "slideshow": {
     "slide_type": "slide"
    }
   },
   "source": [
    "So it is with references. They hearken back to ye olde computre ayge when fast memory was a precious commodity [measured in kilobytes](https://en.wikipedia.org/wiki/Kilobyte), which is not enough memory to store even the Facebook home page."
   ]
  },
  {
   "cell_type": "markdown",
   "metadata": {
    "slideshow": {
     "slide_type": "fragment"
    }
   },
   "source": [
    "It was, however, enough to store the address. These addresses, or *references*, would point to specific locations in the larger, much slower main memory hard disks where all the larger data objects would be saved."
   ]
  },
  {
   "cell_type": "markdown",
   "metadata": {
    "slideshow": {
     "slide_type": "fragment"
    }
   },
   "source": [
    "Scanning through larger, extremely slow hard disks looking for the object itself would be akin to driving through every neighborhood in the city of Atlanta looking for a specific house. Possible, sure, but not very efficient. Much faster to have the address in-hand and drive directly there whenever you need to."
   ]
  },
  {
   "cell_type": "markdown",
   "metadata": {
    "slideshow": {
     "slide_type": "slide"
    }
   },
   "source": [
    "### That doesn't explain why the list changed in the function\n",
    "\n",
    "Very astute. This has to do with a subtle but important difference in how Python passes variables of different types to functions."
   ]
  },
  {
   "cell_type": "markdown",
   "metadata": {
    "slideshow": {
     "slide_type": "fragment"
    }
   },
   "source": [
    " - For the \"primitive\" variable types--int, float, string--they're passed by value. These are [typically] small enough to be passed directly to functions. However, in doing so, they are *copied* upon entering the function, and these copies vanish when the function ends."
   ]
  },
  {
   "cell_type": "markdown",
   "metadata": {
    "slideshow": {
     "slide_type": "fragment"
    }
   },
   "source": [
    " - For the \"object\" variable types--lists, sets, dictionaries, NumPy arrays, generators, and pretty much anything else that builds on \"primitive\" types--they're passed by reference. This means you can modify the values inside these objects while you're still in the function, and those modifications will persist even after the function ends."
   ]
  },
  {
   "cell_type": "markdown",
   "metadata": {
    "slideshow": {
     "slide_type": "slide"
    }
   },
   "source": [
    "Think of references as \"arrows\"--they refer to your actual objects, like lists or NumPy arrays. The name with which you refer to your object is the reference."
   ]
  },
  {
   "cell_type": "code",
   "execution_count": null,
   "metadata": {
    "collapsed": true,
    "slideshow": {
     "slide_type": "fragment"
    }
   },
   "outputs": [],
   "source": [
    "some_list = [1, 2, 3]\n",
    "\n",
    "# some_list -> reference to my list\n",
    "# [1, 2, 3] -> the actual, physical list"
   ]
  },
  {
   "cell_type": "markdown",
   "metadata": {
    "slideshow": {
     "slide_type": "fragment"
    }
   },
   "source": [
    "Whenever you operate on `some_list`, you have to traverse the \"arrow\" to the object itself, which is separate. Again, think of the house analogy: whenever you want to clean your house, you have to follow your reference to it first."
   ]
  },
  {
   "cell_type": "markdown",
   "metadata": {
    "slideshow": {
     "slide_type": "fragment"
    }
   },
   "source": [
    "[This YouTube video isn't exactly the same thing](https://www.youtube.com/watch?v=f-pJlnpkLp0), since C++ handles this much more explicitly than Python does. But if you substitute \"references\" for \"pointers\", and ignore the little code snippets, it's more or less describing precisely this concept."
   ]
  },
  {
   "cell_type": "markdown",
   "metadata": {
    "slideshow": {
     "slide_type": "slide"
    }
   },
   "source": [
    "## Review Questions\n",
    "\n",
    "Some questions to discuss and consider:\n",
    "\n",
    "1: Give some examples for when we'd want to use keyword arguments, arbitrary numbers of arguments, and key-value arguments.\n",
    "\n",
    "2: Let's say I wanted to write a function, `add1()`, which takes an integer as input and adds 1 to it. We know that integers are passed by value, so therefore any changes made to the argument inside the function are discarded when the function finishes. Are there any additional changes I could make so that this function will indeed give me a value that is 1 + the input argument?\n",
    "\n",
    "3: There's a slight wrinkle in the pass-by-reference, pass-by-value story: technically speaking, *everything* in Python is passed by value. The difference comes down to the fact that Python objects are always used in conjunction with their references, while the \"primitive\" variable types are dealt with directly. Since arguments that are passed by value are always copied, can you explain the process of passing an object to a Python function, and in particular how changes are preserved after the function finishes? (Hint: it really helps to draw pictures when dealing with references and values. Put the references on one side, and the objects they refer to on the other side, then go step-by-step through the process of calling a function, copying the arguments, changing the arguments, and ending the function; the YouTube video in this talk handles this case implicitly near the end!)"
   ]
  },
  {
   "cell_type": "markdown",
   "metadata": {
    "slideshow": {
     "slide_type": "slide"
    }
   },
   "source": [
    "## Course Administrivia\n",
    "\n",
    " - **I am holding a review session on Friday, July 1 at 12pm EDT in lieu of releasing a new lecture**. The review session will start in the Slack channel, but will be in Google Hangouts (courtesy of Slack + Hangout integration). I will also record the video and post it on YouTube with closed captioning, should anyone want that. If you are struggling with the concepts we've covered so far in this course, please plan to attend! Come with questions!"
   ]
  },
  {
   "cell_type": "markdown",
   "metadata": {
    "slideshow": {
     "slide_type": "fragment"
    }
   },
   "source": [
    " - **The midterm exam is Tuesday, July 5.** I have not fully determined the structure, but plan on an exam that has the same format as your homework assignments, albeit a little longer. You will **not** be allowed to collaborate with one another, though obviously given the online nature of the course, it will be enforced by the honor system."
   ]
  },
  {
   "cell_type": "markdown",
   "metadata": {
    "slideshow": {
     "slide_type": "fragment"
    }
   },
   "source": [
    " - No lecture on Monday, July 4, because July 4. Happy July 4!"
   ]
  },
  {
   "cell_type": "markdown",
   "metadata": {
    "slideshow": {
     "slide_type": "slide"
    }
   },
   "source": [
    "## Additional Resources\n",
    "\n",
    " 1. Matthes, Eric. *Python Crash Course*. 2016. ISBN-13: 978-1593276034"
   ]
  }
 ],
 "metadata": {
  "celltoolbar": "Slideshow",
  "kernelspec": {
   "display_name": "Python 3",
   "language": "python",
   "name": "python3"
  },
  "language_info": {
   "codemirror_mode": {
    "name": "ipython",
    "version": 3
   },
   "file_extension": ".py",
   "mimetype": "text/x-python",
   "name": "python",
   "nbconvert_exporter": "python",
   "pygments_lexer": "ipython3",
   "version": "3.5.1"
  }
 },
 "nbformat": 4,
 "nbformat_minor": 0
}
