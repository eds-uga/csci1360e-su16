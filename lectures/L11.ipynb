{
 "cells": [
  {
   "cell_type": "markdown",
   "metadata": {
    "slideshow": {
     "slide_type": "slide"
    }
   },
   "source": [
    "# Lecture 11: Q&A, Part I\n",
    "\n",
    "CSCI 1360E: Foundations for Informatics and Analytics"
   ]
  },
  {
   "cell_type": "markdown",
   "metadata": {
    "slideshow": {
     "slide_type": "slide"
    }
   },
   "source": [
    "## Overview and Objectives\n",
    "\n",
    "In this review, we went over all previous material, in particular\n",
    "\n",
    " - Lecture 10 review questions\n",
    " - Boolean indexing and axes of NumPy arrays\n",
    " - Exception handling"
   ]
  },
  {
   "cell_type": "markdown",
   "metadata": {
    "slideshow": {
     "slide_type": "slide"
    }
   },
   "source": [
    "Unfortunately, due to technical problems there was no audio captured with the Hangout meeting, so I cannot post the video as I'd originally intended. My apologies for that; it will be fixed before the next Q&A session."
   ]
  },
  {
   "cell_type": "markdown",
   "metadata": {
    "slideshow": {
     "slide_type": "slide"
    }
   },
   "source": [
    "## Future Q&A Sessions"
   ]
  },
  {
   "cell_type": "markdown",
   "metadata": {
    "slideshow": {
     "slide_type": "fragment"
    }
   },
   "source": [
    "You'll notice the [lecture schedule on the course website](https://eds-uga.github.io/csci1360e-su16/#schedule) has been updated to include biweekly review (\"Q&A\") sessions on some Fridays, in lieu of a concrete lecture topic. This is an opportunity for you to attend and ask specific questions in real-time, either through text chat or via video if you so desire."
   ]
  },
  {
   "cell_type": "markdown",
   "metadata": {
    "slideshow": {
     "slide_type": "fragment"
    }
   },
   "source": [
    "These videos will be screen-captured--and, in the future, along with their audio!--and posted so you can review them later or in case you wanted to attend but weren't able. Let me know if you also need the videos to be close-captioned, as I can do that, too."
   ]
  },
  {
   "cell_type": "markdown",
   "metadata": {
    "slideshow": {
     "slide_type": "fragment"
    }
   },
   "source": [
    "The next Q&A session will be **Friday, July 15 at 12pm EDT**."
   ]
  },
  {
   "cell_type": "markdown",
   "metadata": {
    "slideshow": {
     "slide_type": "slide"
    }
   },
   "source": [
    "## Midterm"
   ]
  },
  {
   "cell_type": "markdown",
   "metadata": {
    "slideshow": {
     "slide_type": "fragment"
    }
   },
   "source": [
    "The midterm exam is coming up next Tuesday, July 5!"
   ]
  },
  {
   "cell_type": "markdown",
   "metadata": {
    "slideshow": {
     "slide_type": "fragment"
    }
   },
   "source": [
    "Any and all material we've covered so far will be fair game, but focus in particular on the topics of the last few weeks: NumPy arrays, indexing, broadcasting, vectorized computations, and functions."
   ]
  },
  {
   "cell_type": "markdown",
   "metadata": {
    "slideshow": {
     "slide_type": "fragment"
    }
   },
   "source": [
    "The format will be akin to a slightly longer homework assignment. It will use the same scientific notebook format and take place on JupyterHub. There will most likely be 4 main questions (with sub-parts) and an all-or-nothing bonus question."
   ]
  },
  {
   "cell_type": "markdown",
   "metadata": {
    "slideshow": {
     "slide_type": "slide"
    }
   },
   "source": [
    "The midterm will be **90 minutes** (unless you have special permission for more time)."
   ]
  },
  {
   "cell_type": "markdown",
   "metadata": {
    "slideshow": {
     "slide_type": "fragment"
    }
   },
   "source": [
    "You will **NOT** be allowed to use internet resources or collaborate with your classmates (enforced by the honor system), but you **ARE** allowed to use lecture and assignment materials from this course, as well as terminals in the JupyterHub environment or on your local machine."
   ]
  },
  {
   "cell_type": "markdown",
   "metadata": {
    "slideshow": {
     "slide_type": "fragment"
    }
   },
   "source": [
    "The midterm will be released on JupyterHub at **12:00AM on Tuesday, July 5.** It is due by **11:59:59PM** that evening. Within that 23-hour, 59-minute and 59-second time frame, you can \"fetch\" the midterm anytime you want! But once you \"fetch\" it, **you have 90 minutes from that precise moment to complete the midterm and submit it via JupyterHub.**"
   ]
  },
  {
   "cell_type": "markdown",
   "metadata": {
    "slideshow": {
     "slide_type": "fragment"
    }
   },
   "source": [
    "Instructions will be provided on the midterm for looking up your current time, but for the most part, **YOU** will be responsible for keeping track of your time limit and ensuring that you submit within 90 minutes of fetching."
   ]
  },
  {
   "cell_type": "markdown",
   "metadata": {
    "slideshow": {
     "slide_type": "slide"
    }
   },
   "source": [
    "In theory, this format should allow you to take the midterm when it is most convenient for you next Tuesday. Obviously you should probably start no later than 90 minutes before 11:59PM, since any submissions after that time will be considered late, even if you started at 11:58PM."
   ]
  },
  {
   "cell_type": "markdown",
   "metadata": {
    "slideshow": {
     "slide_type": "fragment"
    }
   },
   "source": [
    "**Do not expect that there will be leniency in the 90-minute time limit, or in the 11:59:59PM submission deadline.** Assume that a midterm submitted 90 minutes and 1 second after it was fetched will be considered late."
   ]
  },
  {
   "cell_type": "markdown",
   "metadata": {
    "slideshow": {
     "slide_type": "slide"
    }
   },
   "source": [
    "**I will be available over Slack for questions on July 5!** If you run into technical questions on the midterm, feel free to jump on Slack and shoot me a direct message. I'll try to check as often as I can, and I'll be especially available during business hours (9AM through 5PM EDT)."
   ]
  },
  {
   "cell_type": "markdown",
   "metadata": {
    "slideshow": {
     "slide_type": "fragment"
    }
   },
   "source": [
    "Feel free to ask any questions this weekend, too! If *anything* is unclear, don't hesitate to ask! It's what I'm here for."
   ]
  },
  {
   "cell_type": "markdown",
   "metadata": {
    "slideshow": {
     "slide_type": "fragment"
    }
   },
   "source": [
    "I would also highly recommend initiating discussions on the Slack channel with your classmates. In particular, Ryan has been posting Google docs that address the review questions at the end of each lecture; those would be great study resources. Contact `rhino` in the Slack channel to get involved with those!"
   ]
  },
  {
   "cell_type": "markdown",
   "metadata": {
    "slideshow": {
     "slide_type": "slide"
    }
   },
   "source": [
    "### Good luck!\n",
    "\n",
    "![goodluck](http://s2.quickmeme.com/img/fb/fb0b2527c77639a084af136144dff6eab5d6b53f314198a1fb6283c263e06a31.jpg)"
   ]
  }
 ],
 "metadata": {
  "celltoolbar": "Slideshow",
  "kernelspec": {
   "display_name": "Python 3",
   "language": "python",
   "name": "python3"
  },
  "language_info": {
   "codemirror_mode": {
    "name": "ipython",
    "version": 3
   },
   "file_extension": ".py",
   "mimetype": "text/x-python",
   "name": "python",
   "nbconvert_exporter": "python",
   "pygments_lexer": "ipython3",
   "version": "3.5.1"
  }
 },
 "nbformat": 4,
 "nbformat_minor": 0
}
